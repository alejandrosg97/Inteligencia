{
  "nbformat": 4,
  "nbformat_minor": 0,
  "metadata": {
    "colab": {
      "name": "Untitled0.ipynb",
      "provenance": [],
      "private_outputs": true,
      "mount_file_id": "12gj5pqFFHz9fijoyvqMeKHuFDkRgEx72",
      "authorship_tag": "ABX9TyM4S8XcUN3YSXvfmeYVcEp9",
      "include_colab_link": true
    },
    "kernelspec": {
      "name": "python3",
      "display_name": "Python 3"
    },
    "language_info": {
      "name": "python"
    },
    "accelerator": "GPU"
  },
  "cells": [
    {
      "cell_type": "markdown",
      "metadata": {
        "id": "view-in-github",
        "colab_type": "text"
      },
      "source": [
        "<a href=\"https://colab.research.google.com/github/alejandrosg97/Inteligencia/blob/main/Untitled0.ipynb\" target=\"_parent\"><img src=\"https://colab.research.google.com/assets/colab-badge.svg\" alt=\"Open In Colab\"/></a>"
      ]
    },
    {
      "cell_type": "code",
      "execution_count": null,
      "metadata": {
        "id": "yHV1SWcMF28Y"
      },
      "outputs": [],
      "source": [
        ""
      ]
    },
    {
      "cell_type": "code",
      "source": [
        "from google.colab import drive\n",
        "drive.mount('/content/drive')"
      ],
      "metadata": {
        "id": "UP9ZEiXhF8rZ"
      },
      "execution_count": null,
      "outputs": []
    },
    {
      "cell_type": "code",
      "source": [
        "import tensorflow as tf\n",
        "import matplotlib.pyplot as plt\n",
        "import numpy as np\n",
        "\n",
        "PATH=\"/content/drive/MyDrive/Inteligencia_Artificial\"\n",
        "\n",
        "\n",
        "\n",
        "INPTAH = PATH + \"/target\"\n",
        "\n",
        "OUTPTAH = PATH + \"/input\"\n",
        "\n",
        "CKPATH = PATH + \"/checkpath\"\n",
        "\n",
        "imgurls = !ls -1 \"{INPTAH}\"\n",
        "\n",
        "\n",
        "n = len(imgurls)\n",
        "\n",
        "train_n = round(n * 0.80)\n",
        "\n",
        "roundUrls = np.copy(imgurls)\n",
        "\n",
        "np.random.seed(23)\n",
        "np.random.shuffle(roundUrls)\n",
        "\n",
        "tr_urls = roundUrls[:train_n]\n",
        "ts_urls = roundUrls[train_n:n]\n",
        "\n",
        "print(len(imgurls), len(tr_urls), len(ts_urls))"
      ],
      "metadata": {
        "id": "GvK4yWDnHTst"
      },
      "execution_count": null,
      "outputs": []
    },
    {
      "cell_type": "code",
      "source": [
        "IMG_WIDTH = 256\n",
        "IMG_HEIGHT = 256\n",
        "\n",
        "def resize(inimg, tgimg, heigth,width):\n",
        "  inimg = tf.image.resize(inimg,[heigth,width])\n",
        "  tgimg = tf.image.resize(tgimg,[heigth,width])\n",
        "\n",
        "  return inimg,tgimg\n",
        "\n",
        "def normalize(inimg, tgimg):\n",
        "  inimg = (inimg/127.5) - 1 \n",
        "  tgimg = (tgimg/127.5) - 1 \n",
        "\n",
        "  return inimg,tgimg\n",
        "\n",
        "@tf.function()\n",
        "def random_jitter(inimg, tgimg):\n",
        "  inimg, tgimg = resize(inimg, tgimg, 286, 286)\n",
        "  stacked_image = tf.stack([inimg,tgimg], axis=0)\n",
        "  cropped_img = tf.image.random_crop(stacked_image, size=[2, IMG_HEIGHT, IMG_WIDTH, 3])\n",
        "  inimg, tgimg = cropped_img[0], cropped_img[1]\n",
        "  \n",
        "  if tf.random.uniform(()) > 0.5:\n",
        "    inimg = tf.image.flip_left_right(inimg)\n",
        "    tgimg = tf.image.flip_left_right(tgimg)\n",
        "  \n",
        "  return inimg,tgimg\n",
        "\n",
        "def load_image(filename, augment=True):\n",
        "  inimg = tf.cast(tf.image.decode_jpeg(tf.io.read_file(OUTPTAH + '/' + filename)), tf.float32)[..., :3]\n",
        "  tgimg = tf.cast(tf.image.decode_jpeg(tf.io.read_file(INPTAH + '/' + filename)), tf.float32)[..., :3]\n",
        "\n",
        "  inimg, tgimg = resize(inimg, tgimg, IMG_HEIGHT, IMG_WIDTH)\n",
        "\n",
        "  if augment:\n",
        "    inimg, tgimg = random_jitter(inimg, tgimg)\n",
        "  \n",
        "  inimg, tgimg = normalize(inimg, tgimg)\n",
        "\n",
        "  return inimg, tgimg\n",
        "\n",
        "def load_train_img(filename):\n",
        "  return load_image(filename, True)\n",
        "\n",
        "def load_test_img(filename):\n",
        "  return load_image(filename, False)\n",
        "\n",
        "plt.imshow(((load_train_img(roundUrls[0])[1])+ 1) / 2)"
      ],
      "metadata": {
        "id": "IbHXOJZzKx12"
      },
      "execution_count": null,
      "outputs": []
    },
    {
      "cell_type": "code",
      "source": [
        "train_dataset = tf.data.Dataset.from_tensor_slices(tr_urls)\n",
        "train_dataset = train_dataset.map(load_train_img, num_parallel_calls=tf.data.experimental.AUTOTUNE)\n",
        "train_dataset = train_dataset.batch(1)\n",
        "\n",
        "test_dataset = tf.data.Dataset.from_tensor_slices(tr_urls)\n",
        "test_dataset = test_dataset.map(load_test_img, num_parallel_calls=tf.data.experimental.AUTOTUNE)\n",
        "test_dataset = test_dataset.batch(1)"
      ],
      "metadata": {
        "id": "mBKVuVv7L2vf"
      },
      "execution_count": null,
      "outputs": []
    },
    {
      "cell_type": "code",
      "source": [
        "from tensorflow.keras import *\n",
        "from tensorflow.keras.layers import *\n",
        "\n",
        "def downsample(filters, apply_batchnorm=True):\n",
        "  result = Sequential()\n",
        "\n",
        "  initializer = tf.random_normal_initializer(0,0.02)\n",
        "  #Capa covolucional\n",
        "  result.add(Conv2D(filters,\n",
        "                    kernel_size=4,\n",
        "                    strides=2,\n",
        "                    padding=\"same\",\n",
        "                    kernel_initializer=initializer,\n",
        "                    use_bias=not apply_batchnorm))\n",
        "\n",
        "  #Capa covolucional\n",
        "  if apply_batchnorm:\n",
        "    result.add(BatchNormalization())\n",
        "\n",
        "  #Capa covolucional\n",
        "  result.add(LeakyReLU())\n",
        "\n",
        "  return result;\n",
        "\n",
        "downsample(64)"
      ],
      "metadata": {
        "id": "9kN5Prv_L3mK"
      },
      "execution_count": null,
      "outputs": []
    },
    {
      "cell_type": "code",
      "source": [
        "def upsample(filters, apply_dropout=False):\n",
        "  result = Sequential()\n",
        "\n",
        "  initializer = tf.random_normal_initializer(0,0.02)\n",
        "  #Capa covolucional\n",
        "  result.add(Conv2DTranspose(filters,\n",
        "                             kernel_size=4,\n",
        "                             strides=2,\n",
        "                             padding=\"same\",\n",
        "                             kernel_initializer=initializer,\n",
        "                             use_bias=False))\n",
        "\n",
        "  #Capa covolucional\n",
        "  result.add(BatchNormalization())\n",
        "\n",
        "  if apply_dropout:\n",
        "    result.add(Dropout(0.5))\n",
        "\n",
        "  #Capa covolucional\n",
        "  result.add(ReLU())\n",
        "\n",
        "  return result;\n",
        "\n",
        "upsample(64)"
      ],
      "metadata": {
        "id": "PAiR_mLpL_Rp"
      },
      "execution_count": null,
      "outputs": []
    },
    {
      "cell_type": "code",
      "source": [
        "def Generator():\n",
        "  inputs = tf.keras.layers.Input(shape=[None, None, 3])\n",
        "  down_stack = [\n",
        "                downsample(64, apply_batchnorm=False),\n",
        "                downsample(128),\n",
        "                downsample(256),\n",
        "                downsample(512),\n",
        "                downsample(512),\n",
        "                downsample(512),\n",
        "                downsample(512),\n",
        "                downsample(512),\n",
        "  ]\n",
        "\n",
        "  up_stack = [\n",
        "                upsample(512, apply_dropout=True),\n",
        "                upsample(512, apply_dropout=True),\n",
        "                upsample(512, apply_dropout=True),\n",
        "                upsample(512),\n",
        "                upsample(256),\n",
        "                upsample(128),\n",
        "                upsample(64),\n",
        "  ]\n",
        "\n",
        "  initializer = tf.random_normal_initializer(0,0.02)\n",
        "  last = Conv2DTranspose(filters=3,\n",
        "                         kernel_size=4,\n",
        "                         strides=2,\n",
        "                         padding=\"same\",\n",
        "                         kernel_initializer=initializer,\n",
        "                         activation=\"tanh\")\n",
        "  x = inputs\n",
        "  s = []\n",
        "  concat = Concatenate()\n",
        "  for down in down_stack:\n",
        "    x = down(x)\n",
        "    s.append(x)\n",
        "\n",
        "  s = reversed(s[:-1])\n",
        "\n",
        "  for up,sk in zip(up_stack,s):\n",
        "    x = up(x)\n",
        "    x = concat([x,sk])\n",
        "  last = last(x)\n",
        "  return Model(inputs=inputs, outputs=last)\n",
        "\n",
        "generator = Generator()"
      ],
      "metadata": {
        "id": "fYGuw1EcMFRM"
      },
      "execution_count": null,
      "outputs": []
    },
    {
      "cell_type": "code",
      "source": [
        "def Discriminator():\n",
        "  ini = Input(shape=[None, None, 3], name=\"input_img\")\n",
        "  gen = Input(shape=[None, None, 3], name=\"gener_img\")\n",
        "\n",
        "  con = concatenate([ini, gen])\n",
        "\n",
        "  initializer = tf.random_normal_initializer(0,0.02)\n",
        "\n",
        "  down1 = downsample(64, apply_batchnorm=False)(con)\n",
        "  down2 = downsample(128)(con)\n",
        "  down3 = downsample(256)(con)\n",
        "  down4 = downsample(512)(con)\n",
        "\n",
        "  last = tf.keras.layers.Conv2D(filters=1,\n",
        "                                kernel_size=4,\n",
        "                                strides=1,\n",
        "                                kernel_initializer=initializer,\n",
        "                                padding=\"same\")(down4)\n",
        "  return tf.keras.Model(inputs=[ini,gen], outputs=last)\n",
        "\n",
        "discriminator = Discriminator()"
      ],
      "metadata": {
        "id": "nS8-D9AAMKTL"
      },
      "execution_count": null,
      "outputs": []
    },
    {
      "cell_type": "code",
      "source": [
        "loss_object = tf.keras.losses.BinaryCrossentropy(from_logits=True)"
      ],
      "metadata": {
        "id": "6v_k-ZZ9MN0m"
      },
      "execution_count": null,
      "outputs": []
    },
    {
      "cell_type": "code",
      "source": [
        "def discriminator_loss(disc_real_output, disc_generated_output):\n",
        "  real_loss = loss_object(tf.ones_like(disc_real_output), disc_real_output)\n",
        "\n",
        "  generated_loss = loss_object(tf.zeros_like(disc_generated_output), disc_generated_output)\n",
        "\n",
        "  total_disc_loss = real_loss + generated_loss\n",
        "\n",
        "  return total_disc_loss"
      ],
      "metadata": {
        "id": "KEhUwxvCMP4a"
      },
      "execution_count": null,
      "outputs": []
    },
    {
      "cell_type": "code",
      "source": [
        "LAMBDA = 100\n",
        "def generator_loss(disc_generated_output,gen_output, target):\n",
        "  gan_loss = loss_object(tf.ones_like(disc_generated_output), disc_generated_output)\n",
        "\n",
        "  l1_loss = tf.reduce_mean(tf.abs(target-gen_output))\n",
        "\n",
        "  total_gen_loss = gan_loss + (LAMBDA * l1_loss)\n",
        "\n",
        "  return total_gen_loss"
      ],
      "metadata": {
        "id": "4iKifGV1MR4-"
      },
      "execution_count": null,
      "outputs": []
    },
    {
      "cell_type": "code",
      "source": [
        "import os\n",
        "\n",
        "generator_optimizer = tf.keras.optimizers.Adam(2e-4,beta_1=0.5)\n",
        "discriminator_optimizer = tf.keras.optimizers.Adam(2e-4,beta_1=0.5)\n",
        "\n",
        "checkpoint_prefix = os.path.join(CKPATH, \"ckpt\")\n",
        "checkpoint = tf.train.Checkpoint(generator_optimizer=generator_optimizer,\n",
        "                                 discriminator_optimizer=discriminator_optimizer,\n",
        "                                 generator = generator,\n",
        "                                 discriminator = discriminator)\n",
        "\n",
        "checkpoint.restore(tf.train.latest_checkpoint(CKPATH)).assert_consumed()"
      ],
      "metadata": {
        "id": "Pyn_YuQuMT1M"
      },
      "execution_count": null,
      "outputs": []
    },
    {
      "cell_type": "code",
      "source": [
        "def generate_images(model, test_input, tar,save_filename=False, display_imgs=True):\n",
        "  prediction = model(test_input, training=True)\n",
        "\n",
        "  if save_filename:\n",
        "    tf.keras.preprocessing.image.save_img(PATH + '/outputB/'+save_filename+'.jpg', prediction[0,...])\n",
        "  \n",
        "  plt.figure(figsize=(10,10))\n",
        "\n",
        "  display_list = [test_input[0], tar[0], prediction[0]]\n",
        "  title = ['Input Image', 'Ground Truth', 'Predicted Image']\n",
        "\n",
        "  for i in range(3):\n",
        "    plt.subplot(1, 3, i+1)\n",
        "    plt.title(title[i])\n",
        "    # getting the pixel values between [0, 1] to plot it.\n",
        "    plt.imshow(display_list[i] * 0.5 + 0.5)\n",
        "    plt.axis('off')\n",
        "  plt.show()"
      ],
      "metadata": {
        "id": "A4BnK0q3MWlO"
      },
      "execution_count": null,
      "outputs": []
    },
    {
      "cell_type": "code",
      "source": [
        "def train_step(input_image, target):\n",
        "  with tf.GradientTape() as gen_tape, tf.GradientTape() as disc_tape:\n",
        "    output_img = generator(input_image, training=True)\n",
        "\n",
        "    output_gen_discr = discriminator([output_img, target], training=True)\n",
        "\n",
        "    output_trg_disc = discriminator([target, input_image], training=True)\n",
        "\n",
        "    discr_loss = discriminator_loss(output_trg_disc, output_gen_discr)\n",
        "\n",
        "    gen_loss = generator_loss(output_gen_discr, output_img, target)\n",
        "\n",
        "    generator_grads = gen_tape.gradient(gen_loss, generator.trainable_variables)\n",
        "\n",
        "    discriminator_grads = disc_tape.gradient(discr_loss, discriminator.trainable_variables)\n",
        "\n",
        "    generator_optimizer.apply_gradients(zip(generator_grads, generator.trainable_variables))\n",
        "\n",
        "    discriminator_optimizer.apply_gradients(zip(discriminator_grads, discriminator.trainable_variables))"
      ],
      "metadata": {
        "id": "zUxC8XJ_MYXD"
      },
      "execution_count": null,
      "outputs": []
    },
    {
      "cell_type": "code",
      "source": [
        "from IPython.display import clear_output\n",
        "\n",
        "def train(dataset, epochs):\n",
        "  for epoch in range(epochs):\n",
        "    imgi = 0\n",
        "    \n",
        "    for input_image, target in dataset:\n",
        "      print('epoch '+str(epoch)+' - train'+ str(imgi)+'/'+str(len(tr_urls)))\n",
        "      imgi+=1\n",
        "      train_step(input_image, target)\n",
        "      clear_output(wait=True)\n",
        "    imgi = 0\n",
        "    for inp, tar in test_dataset.take(5):\n",
        "      generate_images(generator, inp, tar, str(imgi)+'_'+str(epoch), display_imgs=True)\n",
        "      imgi+=1\n",
        "    \n",
        "    if (epoch+1)%50 == 0:\n",
        "      checkpoint.save(file_prefix=checkpoint_prefix)"
      ],
      "metadata": {
        "id": "xSK3GiaCMa2J"
      },
      "execution_count": null,
      "outputs": []
    },
    {
      "cell_type": "code",
      "source": [
        "train(train_dataset,100)"
      ],
      "metadata": {
        "id": "cacU4Cj0MdIw"
      },
      "execution_count": null,
      "outputs": []
    }
  ]
}